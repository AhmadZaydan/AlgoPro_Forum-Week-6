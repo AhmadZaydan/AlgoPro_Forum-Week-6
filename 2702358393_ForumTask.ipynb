{
 "cells": [
  {
   "cell_type": "code",
   "execution_count": 26,
   "metadata": {
    "tags": [
     "Forum Task 1"
    ]
   },
   "outputs": [
    {
     "name": "stdout",
     "output_type": "stream",
     "text": [
      "84.15\n",
      "B\n"
     ]
    },
    {
     "data": {
      "text/plain": [
       "75.16666666666667"
      ]
     },
     "execution_count": 26,
     "metadata": {},
     "output_type": "execute_result"
    }
   ],
   "source": [
    "#Forum Task 1\n",
    "\n",
    "#Dictionaries\n",
    "lloyd = {\n",
    "\"name\": \"Lloyd\",\n",
    "\"homework\": [90.0,97.0,75.0,92.0],\n",
    "\"quizzes\": [88.0,40.0,94.0],\n",
    "\"tests\": [75.0,90.0]\n",
    "}\n",
    "alice = {\n",
    "\"name\": \"Alice\",\n",
    "\"homework\": [100.0, 92.0, 98.0, 100.0],\n",
    "\"quizzes\": [82.0, 83.0, 91.0],\n",
    "\"tests\": [89.0, 97.0]\n",
    "}\n",
    "tyler = {\n",
    "\"name\": \"Tyler\",\n",
    "\"homework\": [0.0, 87.0, 75.0, 22.0],\n",
    "\"quizzes\": [0.0, 75.0, 78.0],\n",
    "\"tests\": [100.0, 100.0]\n",
    "}\n",
    "\n",
    "#Put dictionaries into a list\n",
    "students=[lloyd, alice, tyler]\n",
    "\n",
    "#Function to find average\n",
    "def average(numbers):\n",
    "    numTotal = float(sum(numbers))\n",
    "    mean = numTotal/len(numbers)\n",
    "    return mean\n",
    "\n",
    "#Student Average\n",
    "def get_average(student):\n",
    "    homework = student[\"homework\"]\n",
    "    quiz = student[\"quizzes\"]\n",
    "    test = student[\"tests\"]\n",
    "\n",
    "    homeworkAve = average(homework)\n",
    "    quizzesAve = average(quiz)\n",
    "    testsAve = average(test)\n",
    "\n",
    "    hW= homeworkAve * 10/100\n",
    "    qW= quizzesAve * 30/100\n",
    "    tW= homeworkAve * 60/100\n",
    "\n",
    "    total = hW + qW + tW\n",
    "\n",
    "    return total\n",
    "\n",
    "print(get_average(lloyd))\n",
    "\n",
    "#Letter Grade\n",
    "def get_letter_grade(score):\n",
    "    if score >= 90:\n",
    "        return \"A\"\n",
    "    elif score >= 80:\n",
    "        return \"B\"\n",
    "    elif score >= 70:\n",
    "        return \"C\"\n",
    "    elif score >= 60:\n",
    "        return \"D\"\n",
    "    elif score < 60:\n",
    "        return \"F\"\n",
    "\n",
    "print(get_letter_grade(get_average(lloyd)))\n",
    "\n",
    "#Class Average\n",
    "def get_class_average(students):\n",
    "    results=[]\n",
    "    for i in range(len(students)):\n",
    "        ave = get_average(students[i])\n",
    "        results.append(ave)\n",
    "\n",
    "    return average(results)\n",
    "\n",
    "get_class_average(students)"
   ]
  },
  {
   "cell_type": "code",
   "execution_count": 9,
   "metadata": {},
   "outputs": [
    {
     "name": "stdout",
     "output_type": "stream",
     "text": [
      "The course details are:\n",
      "Course name: Foundations of Engineering Lab\n",
      "Instructor: J. Anderson\n",
      "Class time: TR 11:00am – 12:15pm\n",
      "\n"
     ]
    }
   ],
   "source": [
    "#Forum Task 2\n",
    "\n",
    "#Creating tuple\n",
    "courseNumber = (\"COP 2510\",\"EGN 3000L\",\"MAC 2281\",\"MUH 3016\",\"PHY 2048\")\n",
    "\n",
    "#Course name dictionary\n",
    "dict1 = {\n",
    "    courseNumber[0]: \"Programming Concepts\",\n",
    "    courseNumber[1]: \"Foundations of Engineering Lab\",\n",
    "    courseNumber[2]: \"Calculus I\",\n",
    "    courseNumber[3]: \"Survey of Jazz\",\n",
    "    courseNumber[4]: \"General Physics I\"\n",
    "}\n",
    "\n",
    "#Instructor dictionary\n",
    "dict2 = {\n",
    "    courseNumber[0]: \"Z. Beasley\",\n",
    "    courseNumber[1]: \"J. Anderson\",\n",
    "    courseNumber[2]: \"A. Makaryus\",\n",
    "    courseNumber[3]: \"A. Wilkins\",\n",
    "    courseNumber[4]: \"G. Pradhan\"\n",
    "}\n",
    "\n",
    "#Class time\n",
    "dict3 = {\n",
    "    courseNumber[0]: \"MW 12:30pm – 1:45pm\",\n",
    "    courseNumber[1]: \"TR 11:00am – 12:15pm\",\n",
    "    courseNumber[2]: \"MW 9:30am – 10:45am\",\n",
    "    courseNumber[3]: \"online asynchronous\",\n",
    "    courseNumber[4]: \"TR 5:00pm – 6:15pm\"\n",
    "}\n",
    "\n",
    "#Check inputed course name\n",
    "cnInput = str(input(\"Enter a course number:\"))\n",
    "for i in range(len(courseNumber)):\n",
    "    if cnInput == courseNumber[i]:\n",
    "        print(f\"The course details are:\\n\"\n",
    "              f\"Course name: {dict1.get(cnInput)}\\n\"\n",
    "              f\"Instructor: {dict2.get(cnInput)}\\n\"\n",
    "              f\"Class time: {dict3.get(cnInput)}\\n\")\n",
    "        break\n",
    "else:\n",
    "    print(f\"{cnInput} is an invalid course number\")\n",
    "        "
   ]
  },
  {
   "cell_type": "code",
   "execution_count": 1,
   "metadata": {},
   "outputs": [
    {
     "name": "stdout",
     "output_type": "stream",
     "text": [
      "The total sales is: $16,475.00\n",
      "The minimum sale amount was: $22.00 The maximum sale amount was: $8,876.00\n"
     ]
    }
   ],
   "source": [
    "#Forum Task 3\n",
    "\n",
    "#Tuple of days in a week\n",
    "days = ((\"Monday\", \"Tuesday\", \"Wednesday\", \"Thursday\", \"Friday\", \"Saturday\", \"Sunday\"))\n",
    "allSales = []\n",
    "\n",
    "#Input sales for each day\n",
    "for i in range(len(days)):\n",
    "    sales = int(input(f\"Enter sales for {days[i]}: \"))\n",
    "    while sales <= 0:\n",
    "        sales = int(input(f\"Please re-enter sales for {days[i]} (Positive integer only): \"))\n",
    "\n",
    "    allSales.append(sales)\n",
    "\n",
    "allSales.sort()\n",
    "\n",
    "#Total sales in a week\n",
    "total = sum(allSales)\n",
    "total = \"{:,.2f}\".format(total)\n",
    "print(f'The total sales is: ${(total)}')\n",
    "\n",
    "#Maximum and Minimum sales in a week\n",
    "minSale = \"{:,.2f}\".format(allSales[0])\n",
    "maxSale = \"{:,.2f}\".format(allSales[-1])\n",
    "print(f'The minimum sale amount was: ${minSale} The maximum sale amount was: ${maxSale}')\n"
   ]
  },
  {
   "cell_type": "code",
   "execution_count": 1,
   "metadata": {},
   "outputs": [
    {
     "name": "stdout",
     "output_type": "stream",
     "text": [
      " --..--.-.-.-..--..-----.----..---...--....-"
     ]
    }
   ],
   "source": [
    "#Forum Task 4\n",
    "\n",
    "#Tuple for morse code\n",
    "morseCode = (\" \",\"--..--\",\".-.-.-\",\"..--..\",\"-----\",\".----\",\"..---\",\"...--\",\"....-\",\".....\",\n",
    "            \"-....\",\"--....\",\"---..\",\"----.\",\".-\",\"-...\",\"-.-.\",\"-..\",\".\",\"..-.\",\n",
    "            \"--.\",\". ...\",\". .\",\".---\",\"-.-\",\".-..\",\"--\",\"-.\",\"---\",\".---.\",\n",
    "            \"--.-\",\".-.\",\"...\",\"-\",\"..-\",\"...-\",\".--\",\"-..-\",\"-.--\",\"--..\")\n",
    "\n",
    "#Tuple for character\n",
    "char = (\" \",\",\",\".\",\"?\",\"0\",\"1\",\"2\",\"3\",\"4\",\"5\",\"6\",\"7\",\"8\",\"9\",\n",
    "        \"A\",\"B\",\"C\",\"D\",\"E\",\"F\",\"G\",\"H\",\"I\",\"J\",\"K\",\"L\",\"M\",\"N\",\n",
    "        \"O\",\"P\",\"Q\",\"R\",\"S\",\"T\",\"U\",\"V\",\"W\",\"X\",\"Y\",\"Z\")\n",
    "\n",
    "#User input\n",
    "string = str(input(\"Enter the string to be converted to Morse code: \")).upper()\n",
    "\n",
    "#Checking whether the inputed string has a morse code or not\n",
    "checker = True\n",
    "for x in range(len(string)):\n",
    "    for y in range(len(char)):\n",
    "        if string[x] == char[y]:\n",
    "            print(morseCode[x], end=\"\")\n",
    "            checker = True\n",
    "            break\n",
    "        elif string[x] != char[y]:\n",
    "            checker = False\n",
    "    \n",
    "    if checker == False:\n",
    "        print(\" \")\n",
    "        print(f\"{string[x]} has no defined morse code\")\n",
    "        "
   ]
  }
 ],
 "metadata": {
  "kernelspec": {
   "display_name": "base",
   "language": "python",
   "name": "python3"
  },
  "language_info": {
   "codemirror_mode": {
    "name": "ipython",
    "version": 3
   },
   "file_extension": ".py",
   "mimetype": "text/x-python",
   "name": "python",
   "nbconvert_exporter": "python",
   "pygments_lexer": "ipython3",
   "version": "3.9.12"
  }
 },
 "nbformat": 4,
 "nbformat_minor": 2
}
